{
 "cells": [
  {
   "cell_type": "code",
   "execution_count": null,
   "metadata": {},
   "outputs": [
    {
     "name": "stdout",
     "output_type": "stream",
     "text": [
      "Original Dimensions :  (1200, 1200, 3)\n"
     ]
    }
   ],
   "source": [
    "import cv2\n",
    "import random\n",
    "import numpy as np\n",
    "\n",
    "img = cv2.imread('roses.jpg', cv2.IMREAD_UNCHANGED)\n",
    " \n",
    "print('Original Dimensions : ',img.shape)\n",
    " \n",
    "scale_percent = 50 # percent of original size\n",
    "width = int(img.shape[1] * scale_percent / 100)\n",
    "height = int(img.shape[0] * scale_percent / 100)\n",
    "dim = (width, height)\n",
    "# resize image\n",
    "img_b = cv2.resize(img, dim, interpolation = cv2.INTER_AREA)\n",
    "img_c = cv2.resize(img, None, fx=0.25, fy=0.25, interpolation = cv2.INTER_AREA)\n",
    "img_d = img_f = img_e = img_c \n",
    "\n",
    "img_b = cv2.Canny(img_b, 150, 160)\n",
    "img_b = cv2.cvtColor(img_b, cv2.COLOR_GRAY2RGB)\n",
    "\n",
    "kernel = np.ones((6, 6), np.float32) / 36\n",
    "\n",
    "img_c = cv2.blur(img_c, (5, 5))\n",
    "\n",
    "img_e = cv2.filter2D(img_e, -1, kernel)\n",
    "\n",
    "img_d = cv2.GaussianBlur(img_d, (5,5), 0)\n",
    "\n",
    "img_f = cv2.randn(img_f, np.zeros(3), np.ones(3)*255)\n",
    "\n",
    "img_ef = np.concatenate((img_e, img_f), axis=1)\n",
    "img_cd = np.concatenate((img_c, img_d), axis=1)\n",
    "img_cf = np.concatenate((img_cd, img_ef), axis=0)\n",
    "img_bf = np.concatenate((img_b, img_cf), axis=0)\n",
    "img_af = np.concatenate((img, img_bf), axis=1)\n",
    "\n",
    "cv2.imwrite('result.png', img_af)\n",
    "cv2.imshow(\"Result image\", img_af)\n",
    "cv2.waitKey(0)\n",
    "cv2.destroyAllWindows()"
   ]
  },
  {
   "cell_type": "code",
   "execution_count": null,
   "metadata": {},
   "outputs": [],
   "source": []
  },
  {
   "cell_type": "code",
   "execution_count": null,
   "metadata": {},
   "outputs": [],
   "source": []
  }
 ],
 "metadata": {
  "kernelspec": {
   "display_name": "Python 3",
   "language": "python",
   "name": "python3"
  },
  "language_info": {
   "codemirror_mode": {
    "name": "ipython",
    "version": 3
   },
   "file_extension": ".py",
   "mimetype": "text/x-python",
   "name": "python",
   "nbconvert_exporter": "python",
   "pygments_lexer": "ipython3",
   "version": "3.7.6"
  }
 },
 "nbformat": 4,
 "nbformat_minor": 4
}
