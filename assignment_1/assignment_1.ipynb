{
 "cells": [
  {
   "cell_type": "markdown",
   "metadata": {},
   "source": [
    "# Домашняя работа №1\n",
    "\n",
    "В этой домашней работе вам предлагается ознакомиться с базовой функциональностью Python и устройством Jupyter Notebook, а так же познакомиться с простыми функциями из пакетов NumPy и matplotlib.\n",
    "\n",
    "Следуйте инструкциям нотебука, решайте задачи, а ответы заполняйте в следующую форму: https://forms.gle/gxG8D5BGeH1nxcSU8"
   ]
  },
  {
   "cell_type": "code",
   "execution_count": null,
   "metadata": {},
   "outputs": [],
   "source": [
    "import numpy as np\n",
    "import matplotlib.pyplot as plt\n",
    "\n",
    "from assignment_1.tasks import find_fold_number, rle, test_rle_str\n",
    "\n",
    "# увеличим изначальный размер графиков\n",
    "plt.figure(figsize=(15, 10))\n",
    "\n",
    "# отображение графиков внутри нотебука\n",
    "%matplotlib inline\n",
    "# графики в svg выглядят более четкими\n",
    "%config InlineBackend.figure_format = 'svg' \n",
    "# автоматическая перезагрузка функций из локальных модулей\n",
    "%load_ext autoreload\n",
    "%autoreload 2"
   ]
  },
  {
   "cell_type": "markdown",
   "metadata": {},
   "source": [
    "# NumPy & matplotlib\n",
    "\n",
    "Для следующих заданий необходимо реализовать код внутри ячейки. Постарайтесь воспользоваться функциональностью пакетов, избегая ненужных циклов и т.п.\n",
    "\n",
    "Про `NumPy` можно почитать тут:\n",
    "[NumPy quickstart](https://docs.scipy.org/doc/numpy/user/quickstart.html)\n",
    "\n",
    "Про `matplotlib` тут:\n",
    "[PyPlot tutorial](https://matplotlib.org/tutorials/introductory/pyplot.html)\n",
    "\n",
    "В данной части задания будут базироваться на датасете $\\textit{Ирисы Фишера}$, первым делом его необходимо скачать"
   ]
  },
  {
   "cell_type": "code",
   "execution_count": null,
   "metadata": {},
   "outputs": [],
   "source": [
    "!wget https://archive.ics.uci.edu/ml/machine-learning-databases/iris/iris.data -P assignment_1/data"
   ]
  },
  {
   "cell_type": "markdown",
   "metadata": {},
   "source": [
    "Ирисы Фишера состоят из данных о 150 экземплярах ириса — Ирис щетинистый (Iris setosa), Ирис виргинский (Iris virginica) и Ирис разноцветный (Iris versicolor). Для каждого экземпляра измерялись четыре характеристики (в сантиметрах):\n",
    "\n",
    "1. Длина наружной доли околоцветника (англ. sepal length);\n",
    "2. Ширина наружной доли околоцветника (англ. sepal width);\n",
    "3. Длина внутренней доли околоцветника (англ. petal length);\n",
    "4. Ширина внутренней доли околоцветника (англ. petal width)."
   ]
  },
  {
   "cell_type": "code",
   "execution_count": null,
   "metadata": {},
   "outputs": [],
   "source": [
    "iris_full = np.genfromtxt('assignment_1/data/iris.data', delimiter=',', dtype='object')\n",
    "names = ('sepallength', 'sepalwidth', 'petallength', 'petalwidth', 'species')\n",
    "iris_vals = iris_full[:, :-1].astype(np.float)\n",
    "iris_name = iris_full[:, -1].astype(np.str)\n",
    "n_iris = iris_vals.shape[0]"
   ]
  },
  {
   "cell_type": "code",
   "execution_count": null,
   "metadata": {},
   "outputs": [],
   "source": [
    "n_rows = 10\n",
    "template = '{:^15}' * len(names)\n",
    "print(template.format(*names))\n",
    "for vals, name in zip(iris_vals[:n_rows], iris_name[:n_rows]):\n",
    "    print(template.format(*vals, name))"
   ]
  },
  {
   "cell_type": "markdown",
   "metadata": {},
   "source": [
    "## 1. Какое максимальное значение для каждого признака\n",
    "Ответом будет последовательность из 4 чисел  \n",
    "Например: `5.1 3.5 1.4 0.2`"
   ]
  },
  {
   "cell_type": "code",
   "execution_count": null,
   "metadata": {},
   "outputs": [],
   "source": []
  },
  {
   "cell_type": "markdown",
   "metadata": {},
   "source": [
    "## 2. Сколько каждого типа ириса представленно в данных\n",
    "Ответом будет последовательность из 3 чисел в порядке: `Iris-setosa, Iris-versicolor, Iris-virginica`  \n",
    "Например: `10 10 10`"
   ]
  },
  {
   "cell_type": "code",
   "execution_count": null,
   "metadata": {},
   "outputs": [],
   "source": []
  },
  {
   "cell_type": "markdown",
   "metadata": {},
   "source": [
    "## 3. Среднее значение признака `petalwidth` для каждого типа ириса\n",
    "Ответом будет последовательность в возврастающем порядке с округлением до 2 знаков после запятой.  \n",
    "Например: `1.23 4.56 7.89` "
   ]
  },
  {
   "cell_type": "code",
   "execution_count": null,
   "metadata": {},
   "outputs": [],
   "source": []
  },
  {
   "cell_type": "markdown",
   "metadata": {},
   "source": [
    "## 4. Попарное скалярное произведение признаков\n",
    "Ответом будет среднее значение попарных скалярных произведений векторов признаков с округлением до 2 знаков после запятой.  \n",
    "Скалярное произведение вектора с самим собой учитывать не надо.  \n",
    "Например: `12.34`"
   ]
  },
  {
   "cell_type": "code",
   "execution_count": null,
   "metadata": {},
   "outputs": [],
   "source": []
  },
  {
   "cell_type": "markdown",
   "metadata": {},
   "source": [
    "## 5. У какого типа ириса самое маленькое значение признака `sepalwidth`"
   ]
  },
  {
   "cell_type": "code",
   "execution_count": null,
   "metadata": {},
   "outputs": [],
   "source": []
  },
  {
   "cell_type": "markdown",
   "metadata": {},
   "source": [
    "## 6. Постройте график распределения значений для `petallength` взависимости от типа ириса\n",
    "В качестве ответа укажите тип ириса с наименьшей дисперсией (самый \"узкий\")"
   ]
  },
  {
   "cell_type": "code",
   "execution_count": null,
   "metadata": {},
   "outputs": [],
   "source": []
  },
  {
   "cell_type": "markdown",
   "metadata": {},
   "source": [
    "## 7. Отобразите зависимость между `petallength` и `petalwidth` взависимости от типа ириса\n",
    "по оси X - petallength   \n",
    "по оси Y - petalwidth  \n",
    "В ответе укажите класс, который отделился от остальных"
   ]
  },
  {
   "cell_type": "code",
   "execution_count": null,
   "metadata": {},
   "outputs": [],
   "source": []
  },
  {
   "cell_type": "markdown",
   "metadata": {},
   "source": [
    "## 8. Постройте boxplot признака `sepallength` для каждого типа Ириса\n",
    "В ответе укажите количество выбросов в данных  \n",
    "Каждый выброс отображается точкой, подробнее про boxplot можно почитать [здесь](https://towardsdatascience.com/understanding-boxplots-5e2df7bcbd51)"
   ]
  },
  {
   "cell_type": "code",
   "execution_count": null,
   "metadata": {},
   "outputs": [],
   "source": []
  },
  {
   "cell_type": "markdown",
   "metadata": {},
   "source": [
    "# Python\n",
    "Для следующих заданий необходимо реализовать соответствующую функцию в файле `tasks.py`.\n",
    "\n",
    "После реализации, выполните соответствующую ячейку, не изменяя её содержимое.\n",
    "\n",
    "## 9. За сколько шагов можно получить однозначное число перемножая цифры предыдущего числа.\n",
    "Например, для $88$ ответ $3$:\n",
    "$$\n",
    "88 \\rightarrow 8 \\times 8 = 64 \\rightarrow 6 \\times 4 = 24 \\rightarrow 2 \\times 4 = 8\n",
    "$$\n",
    "Для этого задания, реализуйте функцию `find_fold_number`"
   ]
  },
  {
   "cell_type": "code",
   "execution_count": null,
   "metadata": {},
   "outputs": [],
   "source": [
    "assert find_fold_number(88) == 3, \"неправильный ответ для числа из примера\""
   ]
  },
  {
   "cell_type": "markdown",
   "metadata": {},
   "source": [
    "В качестве ответа укажите результат выполнения следующей ячейки (без кавычек)"
   ]
  },
  {
   "cell_type": "code",
   "execution_count": null,
   "metadata": {},
   "outputs": [],
   "source": [
    "''.join(map(str, (find_fold_number(i) for i in range(500))))"
   ]
  },
  {
   "cell_type": "markdown",
   "metadata": {},
   "source": [
    "## 10. Кодирование длин серии\n",
    "Кодирование длин серий (RLE) — алгоритм сжатия данных, заменяющий повторяющиеся символы на один символ и число его повторов. Серией называется последовательность, состоящая из нескольких одинаковых символов (более одного). При кодировании строка одинаковых символов, составляющих серию, заменяется строкой, содержащей сам повторяющийся символ и количество его повторов.\n",
    "\n",
    "Например, для $\\textit{AAAAAAAAAAAAAAABAAAA}$ будет сжата в $\\textit{A15BA4}$\n",
    "\n",
    "Для этого задания реализуйте функцию `rle`"
   ]
  },
  {
   "cell_type": "code",
   "execution_count": null,
   "metadata": {},
   "outputs": [],
   "source": [
    "assert rle('AAAAAAAAAAAAAAABAAAA') == 'A15BA4', \"неправильный ответ для строки из примера\""
   ]
  },
  {
   "cell_type": "markdown",
   "metadata": {},
   "source": [
    "В качестве ответа укажите результат выполнения следующей ячейки (без кавычек)"
   ]
  },
  {
   "cell_type": "code",
   "execution_count": null,
   "metadata": {},
   "outputs": [],
   "source": [
    "rle(test_rle_str)"
   ]
  }
 ],
 "metadata": {
  "kernelspec": {
   "display_name": "Python 3",
   "language": "python",
   "name": "python3"
  },
  "language_info": {
   "codemirror_mode": {
    "name": "ipython",
    "version": 3
   },
   "file_extension": ".py",
   "mimetype": "text/x-python",
   "name": "python",
   "nbconvert_exporter": "python",
   "pygments_lexer": "ipython3",
   "version": "3.7.5"
  }
 },
 "nbformat": 4,
 "nbformat_minor": 2
}
